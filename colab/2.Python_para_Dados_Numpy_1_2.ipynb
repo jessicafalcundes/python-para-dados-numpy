{
  "nbformat": 4,
  "nbformat_minor": 0,
  "metadata": {
    "colab": {
      "provenance": [],
      "include_colab_link": true
    },
    "kernelspec": {
      "name": "python3",
      "display_name": "Python 3"
    },
    "language_info": {
      "name": "python"
    }
  },
  "cells": [
    {
      "cell_type": "markdown",
      "metadata": {
        "id": "view-in-github",
        "colab_type": "text"
      },
      "source": [
        "<a href=\"https://colab.research.google.com/github/jessicafalcundes/python-para-dados-numpy/blob/master/Python_para_Dados_Numpy_1_2.ipynb\" target=\"_parent\"><img src=\"https://colab.research.google.com/assets/colab-badge.svg\" alt=\"Open In Colab\"/></a>"
      ]
    },
    {
      "cell_type": "code",
      "execution_count": null,
      "metadata": {
        "id": "9ye4cNTu6ReI"
      },
      "outputs": [],
      "source": [
        "import numpy as np"
      ]
    },
    {
      "cell_type": "code",
      "source": [
        "arr = np.array([2, 4, 6, 7, 8])\n",
        "arr[1]"
      ],
      "metadata": {
        "colab": {
          "base_uri": "https://localhost:8080/"
        },
        "id": "f-BSn32D6-fA",
        "outputId": "5a1063be-42e1-489a-f493-faced317b10a"
      },
      "execution_count": null,
      "outputs": [
        {
          "output_type": "execute_result",
          "data": {
            "text/plain": [
              "4"
            ]
          },
          "metadata": {},
          "execution_count": 3
        }
      ]
    },
    {
      "cell_type": "code",
      "source": [
        "arr[0]"
      ],
      "metadata": {
        "colab": {
          "base_uri": "https://localhost:8080/"
        },
        "id": "pOwnXsoE7CnJ",
        "outputId": "989a51fd-a2c8-46c6-bfcb-376d3d01091b"
      },
      "execution_count": null,
      "outputs": [
        {
          "output_type": "execute_result",
          "data": {
            "text/plain": [
              "2"
            ]
          },
          "metadata": {},
          "execution_count": 4
        }
      ]
    },
    {
      "cell_type": "code",
      "source": [
        "cartela_bingo = np.array([[16, 10,  3, 15],\n",
        "                            [14, 23, 17, 27],\n",
        "                            [ 6, 19,  3,  1],\n",
        "                            [10,  4, 18, 19]])\n",
        "cartela_bingo"
      ],
      "metadata": {
        "colab": {
          "base_uri": "https://localhost:8080/"
        },
        "id": "eSWIayXH7Cpt",
        "outputId": "6c025d60-2001-4800-9fbc-52eeca7872e7"
      },
      "execution_count": null,
      "outputs": [
        {
          "output_type": "execute_result",
          "data": {
            "text/plain": [
              "array([[16, 10,  3, 15],\n",
              "       [14, 23, 17, 27],\n",
              "       [ 6, 19,  3,  1],\n",
              "       [10,  4, 18, 19]])"
            ]
          },
          "metadata": {},
          "execution_count": 5
        }
      ]
    },
    {
      "cell_type": "markdown",
      "source": [],
      "metadata": {
        "id": "Wsl95f4Lib7A"
      }
    },
    {
      "cell_type": "code",
      "source": [
        "cartela_bingo[:, 1].reshape((4,1))"
      ],
      "metadata": {
        "colab": {
          "base_uri": "https://localhost:8080/"
        },
        "id": "EYHXgwWM7CsT",
        "outputId": "f5b33370-146a-4a50-b229-81d1d242b11e"
      },
      "execution_count": null,
      "outputs": [
        {
          "output_type": "execute_result",
          "data": {
            "text/plain": [
              "array([[10],\n",
              "       [23],\n",
              "       [19],\n",
              "       [ 4]])"
            ]
          },
          "metadata": {},
          "execution_count": 8
        }
      ]
    },
    {
      "cell_type": "code",
      "source": [
        "cartela_bingo[0]"
      ],
      "metadata": {
        "colab": {
          "base_uri": "https://localhost:8080/"
        },
        "id": "ui3ygaJR7Cu_",
        "outputId": "2168e8bf-0ad9-41c6-d42c-67bedf5c461d"
      },
      "execution_count": null,
      "outputs": [
        {
          "output_type": "execute_result",
          "data": {
            "text/plain": [
              "array([16, 10,  3, 15])"
            ]
          },
          "metadata": {},
          "execution_count": 9
        }
      ]
    },
    {
      "cell_type": "code",
      "source": [
        "np.sort(cartela_bingo)"
      ],
      "metadata": {
        "colab": {
          "base_uri": "https://localhost:8080/"
        },
        "id": "1UY_zh_O7Cxk",
        "outputId": "51802c1f-19f9-4be7-8053-cdd16c99d4a2"
      },
      "execution_count": null,
      "outputs": [
        {
          "output_type": "execute_result",
          "data": {
            "text/plain": [
              "array([[ 3, 10, 15, 16],\n",
              "       [14, 17, 23, 27],\n",
              "       [ 1,  3,  6, 19],\n",
              "       [ 4, 10, 18, 19]])"
            ]
          },
          "metadata": {},
          "execution_count": 10
        }
      ]
    },
    {
      "cell_type": "code",
      "source": [
        "np.sort(cartela_bingo, axis=0)"
      ],
      "metadata": {
        "colab": {
          "base_uri": "https://localhost:8080/"
        },
        "id": "kuUUK0a87C0B",
        "outputId": "6028e6ab-e9f8-44db-ca3b-ebe00dfe465f"
      },
      "execution_count": null,
      "outputs": [
        {
          "output_type": "execute_result",
          "data": {
            "text/plain": [
              "array([[ 6,  4,  3,  1],\n",
              "       [10, 10,  3, 15],\n",
              "       [14, 19, 17, 19],\n",
              "       [16, 23, 18, 27]])"
            ]
          },
          "metadata": {},
          "execution_count": 11
        }
      ]
    },
    {
      "cell_type": "code",
      "source": [],
      "metadata": {
        "id": "SmXY1QAV7C2h"
      },
      "execution_count": null,
      "outputs": []
    },
    {
      "cell_type": "code",
      "source": [],
      "metadata": {
        "id": "-9si1OlV7C5U"
      },
      "execution_count": null,
      "outputs": []
    },
    {
      "cell_type": "markdown",
      "source": [
        "## 1.1 Explorando Ecossistemas:\n",
        "Como bióloga marinha, me encontrei em uma expedição nas profundezas do Oceano Pacífico, onde estávamos estudando a biodiversidade e a saúde dos recifes de coral. O catálogo abaixo demonstra dados das espécies encontradas, considere a seguinte ordem de colunas:\n",
        "\n",
        "**ID da espécie, quantidade de representantes encontrados, profundeza, tamanho médio da espécie**\n",
        "\n",
        "\n",
        "\n",
        "*  Selecione a segunda coluna com a quantidade de espécies encontradas e adicione em um array as qtd_especies.\n",
        "*  De qtd_especies selecione apenas as primeiras 3 quantidades e print\n",
        "*  Print as 5 últimas quantidades de espécies\n",
        "*  Crie um array que contenha apenas os tamanhos das espécies e ordene por ordem crescente\n",
        "\n",
        "\n",
        "\n",
        "\n"
      ],
      "metadata": {
        "id": "5Xr_92nOfJAa"
      }
    },
    {
      "cell_type": "code",
      "source": [
        "especies = np.array([[747,  89,  33,   5],\n",
        "                    [623, 123,  32,  13],\n",
        "                    [501,  22,  49,   2],\n",
        "                    [116, 101,  42,  10],\n",
        "                    [297,  56,  69,  22],\n",
        "                    [613,  64,  27,   7],\n",
        "                    [295,  84,  29,  14],\n",
        "                    [692, 105,  72,  16],\n",
        "                    [229, 103,  35,   5],\n",
        "                    [374, 124,  70,   1]])\n",
        "especies"
      ],
      "metadata": {
        "colab": {
          "base_uri": "https://localhost:8080/"
        },
        "id": "mKTG17i661tt",
        "outputId": "e2c15705-03e0-4389-c8ef-a864f9ac5f0c"
      },
      "execution_count": null,
      "outputs": [
        {
          "output_type": "execute_result",
          "data": {
            "text/plain": [
              "array([[747,  89,  33,   5],\n",
              "       [623, 123,  32,  13],\n",
              "       [501,  22,  49,   2],\n",
              "       [116, 101,  42,  10],\n",
              "       [297,  56,  69,  22],\n",
              "       [613,  64,  27,   7],\n",
              "       [295,  84,  29,  14],\n",
              "       [692, 105,  72,  16],\n",
              "       [229, 103,  35,   5],\n",
              "       [374, 124,  70,   1]])"
            ]
          },
          "metadata": {},
          "execution_count": 12
        }
      ]
    },
    {
      "cell_type": "markdown",
      "source": [
        "## Filtrando Arrays"
      ],
      "metadata": {
        "id": "fN0bdngrCRlr"
      }
    },
    {
      "cell_type": "code",
      "source": [
        "arr1 = np.array([1, 2, 3, 4, 5])\n",
        "mask = arr1 % 3 == 0\n",
        "mask"
      ],
      "metadata": {
        "colab": {
          "base_uri": "https://localhost:8080/"
        },
        "id": "u72h8zD39NaE",
        "outputId": "5922c10b-59fd-4990-a006-dfd88c0efca9"
      },
      "execution_count": null,
      "outputs": [
        {
          "output_type": "execute_result",
          "data": {
            "text/plain": [
              "array([False, False,  True, False, False])"
            ]
          },
          "metadata": {},
          "execution_count": 33
        }
      ]
    },
    {
      "cell_type": "code",
      "source": [
        "pessoas_id_idade = np.array([[1, 22], [2, 21], [3, 27], [4, 26]])\n",
        "pessoas_id_idade"
      ],
      "metadata": {
        "colab": {
          "base_uri": "https://localhost:8080/"
        },
        "id": "TaLHOLi_CMn5",
        "outputId": "dc24f639-8346-4d5d-93d7-15a68fe9927e"
      },
      "execution_count": null,
      "outputs": [
        {
          "output_type": "execute_result",
          "data": {
            "text/plain": [
              "array([[ 1, 22],\n",
              "       [ 2, 21],\n",
              "       [ 3, 27],\n",
              "       [ 4, 26]])"
            ]
          },
          "metadata": {},
          "execution_count": 35
        }
      ]
    },
    {
      "cell_type": "code",
      "source": [
        "cartela_bingo = np.array([[16, 10,  3, 15],\n",
        "       [14, 23, 17, 27],\n",
        "       [ 6, 19,  3,  1],\n",
        "       [10,  4, 18, 19]])\n",
        "cartela_bingo"
      ],
      "metadata": {
        "colab": {
          "base_uri": "https://localhost:8080/"
        },
        "id": "2TID3wQ1DHoD",
        "outputId": "27197585-5459-46a9-be4e-fdfade1c6c42"
      },
      "execution_count": null,
      "outputs": [
        {
          "output_type": "execute_result",
          "data": {
            "text/plain": [
              "array([[16, 10,  3, 15],\n",
              "       [14, 23, 17, 27],\n",
              "       [ 6, 19,  3,  1],\n",
              "       [10,  4, 18, 19]])"
            ]
          },
          "metadata": {},
          "execution_count": 43
        }
      ]
    },
    {
      "cell_type": "markdown",
      "source": [
        "## 1.2 Ainda usando o Array de espécies marítimas.\n",
        "\n",
        "*   Usando um index booleano crie um array que contém os dados da maior espécie encontrada (considerando o seu tamanho), esse valor corresponde ao valor 22.\n",
        "\n",
        "*   Usando fency index faça um array que contém apenas dados da espécie com ID 297\n",
        "*   Usando np.where() faça um array com a linha com dados correspondentes a espécie com 105 representantes encontrados.\n",
        "*   Considere a profundeza em que o espécie foi encontrada substitua valores maiores que 60 com \"Profundo\"\n",
        "\n"
      ],
      "metadata": {
        "id": "SVvnsCn9EGkv"
      }
    },
    {
      "cell_type": "code",
      "source": [
        "especies"
      ],
      "metadata": {
        "colab": {
          "base_uri": "https://localhost:8080/"
        },
        "id": "ajhm-M6UEPpb",
        "outputId": "396800c2-813e-495c-9264-a1f74f5ea626"
      },
      "execution_count": null,
      "outputs": [
        {
          "output_type": "execute_result",
          "data": {
            "text/plain": [
              "array([[747,  89,  33,   5],\n",
              "       [623, 123,  32,  13],\n",
              "       [501,  22,  49,   2],\n",
              "       [116, 101,  42,  10],\n",
              "       [297,  56,  69,  22],\n",
              "       [613,  64,  27,   7],\n",
              "       [295,  84,  29,  14],\n",
              "       [692, 105,  72,  16],\n",
              "       [229, 103,  35,   5],\n",
              "       [374, 124,  70,   1]])"
            ]
          },
          "metadata": {},
          "execution_count": 50
        }
      ]
    },
    {
      "cell_type": "markdown",
      "source": [
        "## 1.3 Ainda no conjunto 'especies'.\n",
        "\n",
        "*   Adicione mais 2 espécies ao array: [[204, 10, 40, 12], [392, 11, 81, 11]]\n",
        "*   Adicione mais uma coluna na no array original agora com o número de espécies encontradas com que indica se o animal enxerga ou não: [0, 1, 0, 0, 0, 0, 1, 0, 1, 1, 0]\n"
      ],
      "metadata": {
        "id": "SHKhhhoqqOIs"
      }
    }
  ]
}