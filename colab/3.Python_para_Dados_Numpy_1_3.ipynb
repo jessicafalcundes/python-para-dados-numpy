{
  "nbformat": 4,
  "nbformat_minor": 0,
  "metadata": {
    "colab": {
      "provenance": [],
      "include_colab_link": true
    },
    "kernelspec": {
      "name": "python3",
      "display_name": "Python 3"
    },
    "language_info": {
      "name": "python"
    }
  },
  "cells": [
    {
      "cell_type": "markdown",
      "metadata": {
        "id": "view-in-github",
        "colab_type": "text"
      },
      "source": [
        "<a href=\"https://colab.research.google.com/github/jessicafalcundes/python-para-dados-numpy/blob/master/3.Python_para_Dados_Numpy_1_3.ipynb\" target=\"_parent\"><img src=\"https://colab.research.google.com/assets/colab-badge.svg\" alt=\"Open In Colab\"/></a>"
      ]
    },
    {
      "cell_type": "code",
      "execution_count": null,
      "metadata": {
        "id": "y933Qf_oW3UK"
      },
      "outputs": [],
      "source": [
        "import numpy as np"
      ]
    },
    {
      "cell_type": "code",
      "source": [
        "acidentes = np.array([[1, 3, 2],\n",
        "                    [0, 1, 0],\n",
        "                    [2, 1, 4],\n",
        "                    [0, 0, 0],\n",
        "                    [1, 1, 0]])"
      ],
      "metadata": {
        "id": "UCFoCmw6XS6O"
      },
      "execution_count": null,
      "outputs": []
    },
    {
      "cell_type": "code",
      "source": [
        "acidentes"
      ],
      "metadata": {
        "colab": {
          "base_uri": "https://localhost:8080/"
        },
        "id": "AJ5uIgKAgVFI",
        "outputId": "8cfb5f3a-ec67-4b8e-9219-3aadbdf5a24b"
      },
      "execution_count": null,
      "outputs": [
        {
          "output_type": "execute_result",
          "data": {
            "text/plain": [
              "array([[1, 3, 2],\n",
              "       [0, 1, 0],\n",
              "       [2, 1, 4],\n",
              "       [0, 0, 0],\n",
              "       [1, 1, 0]])"
            ]
          },
          "metadata": {},
          "execution_count": 3
        }
      ]
    },
    {
      "cell_type": "markdown",
      "source": [
        "### 1. O cliente que teve acidente abaixo da média nos últimos 2 anos, ganhará um desconto no seu seguro. Identifique-os.\n"
      ],
      "metadata": {
        "id": "-kp7eaKRggd8"
      }
    },
    {
      "cell_type": "code",
      "source": [],
      "metadata": {
        "id": "keqUiiYj2Ccj"
      },
      "execution_count": null,
      "outputs": []
    },
    {
      "cell_type": "markdown",
      "source": [
        "### 2. Qual cliente teve pelo menos 2 anos sem cometer acidentes?"
      ],
      "metadata": {
        "id": "hssvZjW4hryJ"
      }
    },
    {
      "cell_type": "code",
      "source": [],
      "metadata": {
        "id": "uAbP-BaznHbG"
      },
      "execution_count": null,
      "outputs": []
    },
    {
      "cell_type": "markdown",
      "source": [
        "### 3. Uma professora quer que seus alunos apliquem a função (3x + 2y + x*y) em um conjunto de dados. Ela dá dois arrays aos estudantes e pede que seja feita essa operação.\n"
      ],
      "metadata": {
        "id": "A1YunPlfnIwj"
      }
    },
    {
      "cell_type": "code",
      "source": [],
      "metadata": {
        "id": "g1S3HA7X2EtH"
      },
      "execution_count": null,
      "outputs": []
    },
    {
      "cell_type": "markdown",
      "source": [
        "### 4. A mesma professora percebeu que houve um erro em todas as provas dos estudantes e esqueceu de anotar a nota de trabalhos apresentados durante o semestre. Já que foi feito em grupo ela vai adicionar a mesma nota para todos os estudantes. No array cada estudante representa uma linha e cada coluna uma prova. Adicione para cada prova de cada estudante os valores: 1, 2, 1."
      ],
      "metadata": {
        "id": "BJGzageWp-XC"
      }
    },
    {
      "cell_type": "code",
      "source": [],
      "metadata": {
        "id": "8mf-__Tc2GBO"
      },
      "execution_count": null,
      "outputs": []
    }
  ]
}